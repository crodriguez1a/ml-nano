{
 "cells": [
  {
   "cell_type": "code",
   "execution_count": 1,
   "metadata": {},
   "outputs": [
    {
     "name": "stdout",
     "output_type": "stream",
     "text": [
      "/Users/carlos/Repos/ml-nano/lessons\n"
     ]
    }
   ],
   "source": [
    "import os\n",
    "print(os.getcwd())"
   ]
  },
  {
   "cell_type": "code",
   "execution_count": 2,
   "metadata": {},
   "outputs": [
    {
     "data": {
      "text/plain": [
       "'Decision Tree'"
      ]
     },
     "metadata": {},
     "output_type": "display_data"
    },
    {
     "data": {
      "text/plain": [
       "0.6"
      ]
     },
     "metadata": {},
     "output_type": "display_data"
    },
    {
     "data": {
      "text/plain": [
       "'Support Vector Machine'"
      ]
     },
     "metadata": {},
     "output_type": "display_data"
    },
    {
     "data": {
      "text/plain": [
       "0.88"
      ]
     },
     "metadata": {},
     "output_type": "display_data"
    },
    {
     "data": {
      "text/plain": [
       "'Logistic Regression'"
      ]
     },
     "metadata": {},
     "output_type": "display_data"
    },
    {
     "data": {
      "text/plain": [
       "0.88"
      ]
     },
     "metadata": {},
     "output_type": "display_data"
    }
   ],
   "source": [
    "# Import statements\n",
    "from sklearn.tree import DecisionTreeClassifier\n",
    "from sklearn.svm import SVC\n",
    "from sklearn.linear_model import LogisticRegression\n",
    "\n",
    "from sklearn.metrics import accuracy_score\n",
    "from sklearn.model_selection import train_test_split\n",
    "import pandas as pd\n",
    "import numpy as np\n",
    "\n",
    "# Read in the data.\n",
    "data:np.ndarray = np.asarray(pd.read_csv('data/data.csv'))\n",
    "\n",
    "# Assign the features to the variable X, and the labels to the variable y.\n",
    "X:np.ndarray = data[:,0:2] # inputs\n",
    "y:np.ndarray = data[:,2] # outputs\n",
    "\n",
    "# Use train test split to split your data\n",
    "# Use a test size of 25% and a random state of 42\n",
    "X_train, X_test, y_train, y_test = train_test_split(X,y, test_size=0.25, random_state=42)\n",
    "\n",
    "def acc_score(model_instance:any, train:tuple, test:tuple) -> np.float64:\n",
    "    X_train, y_train = train\n",
    "    X_test, y_test = test\n",
    "    \n",
    "    # Fit the model with the training data.\n",
    "    model_instance.fit(X_train, y_train)\n",
    "    \n",
    "    # Predict the output(y) using the input(x) from the test set\n",
    "    y_pred = model_instance.predict(X_test)\n",
    "        \n",
    "    # Calculate the accuracy comparing test output to predicted output.\n",
    "    return (model_instance, accuracy_score(y_test, y_pred))\n",
    "\n",
    "train:tuple = (X_train, y_train)\n",
    "test:tuple = (X_test, y_test)\n",
    "    \n",
    "decision_tree_model, decision_tree_score = acc_score(DecisionTreeClassifier(), train, test) \n",
    "support_vector_machine_model, support_vector_machine_score = acc_score(SVC(gamma='auto'), train, test)\n",
    "logistic_regression_model, logistic_regression_score = acc_score(LogisticRegression(solver='lbfgs'), train, test)\n",
    "    \n",
    "display(\"Decision Tree\", decision_tree_score)\n",
    "display(\"Support Vector Machine\", support_vector_machine_score)\n",
    "display(\"Logistic Regression\", logistic_regression_score)"
   ]
  },
  {
   "cell_type": "code",
   "execution_count": 10,
   "metadata": {},
   "outputs": [
    {
     "data": {
      "image/png": "[encoded data removed]",
      "text/plain": [
       "<Figure size 432x288 with 1 Axes>"
      ]
     },
     "metadata": {
      "needs_background": "light"
     },
     "output_type": "display_data"
    }
   ],
   "source": [
    "import matplotlib.pyplot as plt\n",
    "plt.plot(X_train, 'ro')\n",
    "plt.plot(X_test, 'bo')\n",
    "plt.show()\n",
    "# TODO https://scikit-learn.org/stable/auto_examples/model_selection/plot_learning_curve.html"
   ]
  },
  {
   "cell_type": "code",
   "execution_count": null,
   "metadata": {},
   "outputs": [],
   "source": []
  }
 ],
 "metadata": {
  "kernelspec": {
   "display_name": "Python 3",
   "language": "python",
   "name": "python3"
  },
  "language_info": {
   "codemirror_mode": {
    "name": "ipython",
    "version": 3
   },
   "file_extension": ".py",
   "mimetype": "text/x-python",
   "name": "python",
   "nbconvert_exporter": "python",
   "pygments_lexer": "ipython3",
   "version": "3.6.5"
  }
 },
 "nbformat": 4,
 "nbformat_minor": 2
}
